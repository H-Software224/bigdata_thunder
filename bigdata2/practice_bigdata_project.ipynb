{
 "cells": [
  {
   "cell_type": "code",
   "execution_count": 9,
   "metadata": {},
   "outputs": [],
   "source": [
    "import pandas as pd\n",
    "import numpy as np\n",
    "from bs4 import BeautifulSoup\n",
    "import urllib\n",
    "import statsmodels.api as sm\n",
    "from scipy.stats import bartlett, levene, shapiro\n",
    "from statsmodels.stats.outliers_influence import variance_inflation_factor\n",
    "import matplotlib.pyplot as plt\n",
    "import seaborn as sns\n",
    "from kiwipiepy import Kiwi"
   ]
  },
  {
   "cell_type": "code",
   "execution_count": 10,
   "metadata": {},
   "outputs": [],
   "source": [
    "chosun_eilbo_database = pd.read_csv(r'C:\\bigdata_git\\bigdata_thunder\\bigdata1\\chosun_eilbo.csv')\n",
    "korean_economy_database = pd.read_csv(r'C:\\bigdata_git\\bigdata_thunder\\bigdata1\\korean_economy.csv')\n",
    "mail_economy_database = pd.read_csv(r'C:\\bigdata_git\\bigdata_thunder\\bigdata1\\mail_economy.csv')\n",
    "midlle_eilbo_database = pd.read_csv(r'C:\\bigdata_git\\bigdata_thunder\\bigdata1\\middle_eilbo.csv')\n",
    "money_today_database = pd.read_csv(r'C:\\bigdata_git\\bigdata_thunder\\bigdata1\\money_today.csv')"
   ]
  },
  {
   "cell_type": "code",
   "execution_count": 11,
   "metadata": {},
   "outputs": [
    {
     "data": {
      "text/html": [
       "<div>\n",
       "<style scoped>\n",
       "    .dataframe tbody tr th:only-of-type {\n",
       "        vertical-align: middle;\n",
       "    }\n",
       "\n",
       "    .dataframe tbody tr th {\n",
       "        vertical-align: top;\n",
       "    }\n",
       "\n",
       "    .dataframe thead th {\n",
       "        text-align: right;\n",
       "    }\n",
       "</style>\n",
       "<table border=\"1\" class=\"dataframe\">\n",
       "  <thead>\n",
       "    <tr style=\"text-align: right;\">\n",
       "      <th></th>\n",
       "      <th>id</th>\n",
       "      <th>title</th>\n",
       "      <th>content</th>\n",
       "      <th>url</th>\n",
       "    </tr>\n",
       "  </thead>\n",
       "  <tbody>\n",
       "    <tr>\n",
       "      <th>0</th>\n",
       "      <td>조선일보</td>\n",
       "      <td>왼팔꿈치 아래 없는 女 축구선수,  최강 미국팀 주전 데뷔전</td>\n",
       "      <td>통통한 몸집과 어울리지 않게 대나무를 주식으로 하는 판다. 이런 판다의 독특한 식성...</td>\n",
       "      <td>https://n.news.naver.com/mnews/article/023/000...</td>\n",
       "    </tr>\n",
       "    <tr>\n",
       "      <th>1</th>\n",
       "      <td>조선일보</td>\n",
       "      <td>[위클리 포토브리핑] ‘뒤집히고 불에 탄 성조기’...분열된 미국의 상징</td>\n",
       "      <td>“가세연의 이준석 녹취는 일부 삭제된 것” 경기중앙지방변호사회가 한 보수단체가 제기...</td>\n",
       "      <td>https://n.news.naver.com/mnews/article/023/000...</td>\n",
       "    </tr>\n",
       "    <tr>\n",
       "      <th>2</th>\n",
       "      <td>조선일보</td>\n",
       "      <td>[유석재의 돌발史전] 내비게이션 시대에도 지도가 필요한 이유</td>\n",
       "      <td>비대위원장직 자진사퇴 후 한 달 만에 공개행사 참석 이재명 전당대회 출마와 민형배 ...</td>\n",
       "      <td>https://n.news.naver.com/mnews/article/023/000...</td>\n",
       "    </tr>\n",
       "    <tr>\n",
       "      <th>3</th>\n",
       "      <td>조선일보</td>\n",
       "      <td>감자 달걀 커피로 비유한 인생</td>\n",
       "      <td>강병원 “진영 논리서 벗어나야” 박용진 “상식 복원하는 게 혁신” 꼼수 탈당한 민형...</td>\n",
       "      <td>https://n.news.naver.com/mnews/article/023/000...</td>\n",
       "    </tr>\n",
       "    <tr>\n",
       "      <th>4</th>\n",
       "      <td>조선일보</td>\n",
       "      <td>[법없이도 사는 법] 경찰국 신설은 ‘법적 근거’없는 경찰 통제?</td>\n",
       "      <td>시누이 부부가 먹을 음식에 유독성 물질을 넣은 30대 여성이 특수상해 혐의로 경찰에...</td>\n",
       "      <td>https://n.news.naver.com/mnews/article/023/000...</td>\n",
       "    </tr>\n",
       "    <tr>\n",
       "      <th>...</th>\n",
       "      <td>...</td>\n",
       "      <td>...</td>\n",
       "      <td>...</td>\n",
       "      <td>...</td>\n",
       "    </tr>\n",
       "    <tr>\n",
       "      <th>13691</th>\n",
       "      <td>조선일보</td>\n",
       "      <td>대타로 나온 이정후, 6년 연속 150안타</td>\n",
       "      <td>러시아에서 값비싼 슈퍼카를 몰던 차주들이 무더기로 경찰에 체포되는 일이 발생했다. ...</td>\n",
       "      <td>https://n.news.naver.com/mnews/article/023/000...</td>\n",
       "    </tr>\n",
       "    <tr>\n",
       "      <th>13692</th>\n",
       "      <td>조선일보</td>\n",
       "      <td>[박종호의 문화一流] 100년간 이어온 잘츠부르크 축제 첫 공연은 늘 ‘천재’ 호프...</td>\n",
       "      <td>세계에서 가장 어린 트랜스젠더 모델인 미국 소녀 노엘라 맥마허(10)가 패션계의 주...</td>\n",
       "      <td>https://n.news.naver.com/mnews/article/023/000...</td>\n",
       "    </tr>\n",
       "    <tr>\n",
       "      <th>13693</th>\n",
       "      <td>조선일보</td>\n",
       "      <td>[기업 브리핑] 가을·겨울 신상품 최대 20% 할인 프로모션</td>\n",
       "      <td>곤충만 먹는줄 알았더니 개구리·도마뱀·새까지 먹어치워 짝짓기 중 동족포식하는 ‘이 ...</td>\n",
       "      <td>https://n.news.naver.com/mnews/article/023/000...</td>\n",
       "    </tr>\n",
       "    <tr>\n",
       "      <th>13694</th>\n",
       "      <td>조선일보</td>\n",
       "      <td>무게 160g… 일본 맘카페도 ‘국민 아기띠’라 불러요</td>\n",
       "      <td>한국 천주교계에 ‘서울·로마 두 추기경 시대’의 막이 올랐습니다. 지난 27일(현지...</td>\n",
       "      <td>https://n.news.naver.com/mnews/article/023/000...</td>\n",
       "    </tr>\n",
       "    <tr>\n",
       "      <th>13695</th>\n",
       "      <td>조선일보</td>\n",
       "      <td>롯데건설, 인천 검암에 1조4900억 들여 복합환승센터</td>\n",
       "      <td>베토벤이 청력을 잃어 불우했다고 하지만, 사실 인복은 많았다. 그는 커피를 끓이기 ...</td>\n",
       "      <td>https://n.news.naver.com/mnews/article/023/000...</td>\n",
       "    </tr>\n",
       "  </tbody>\n",
       "</table>\n",
       "<p>13696 rows × 4 columns</p>\n",
       "</div>"
      ],
      "text/plain": [
       "         id                                              title  \\\n",
       "0      조선일보                  왼팔꿈치 아래 없는 女 축구선수,  최강 미국팀 주전 데뷔전   \n",
       "1      조선일보           [위클리 포토브리핑] ‘뒤집히고 불에 탄 성조기’...분열된 미국의 상징   \n",
       "2      조선일보                  [유석재의 돌발史전] 내비게이션 시대에도 지도가 필요한 이유   \n",
       "3      조선일보                                   감자 달걀 커피로 비유한 인생   \n",
       "4      조선일보               [법없이도 사는 법] 경찰국 신설은 ‘법적 근거’없는 경찰 통제?   \n",
       "...     ...                                                ...   \n",
       "13691  조선일보                            대타로 나온 이정후, 6년 연속 150안타   \n",
       "13692  조선일보  [박종호의 문화一流] 100년간 이어온 잘츠부르크 축제 첫 공연은 늘 ‘천재’ 호프...   \n",
       "13693  조선일보                  [기업 브리핑] 가을·겨울 신상품 최대 20% 할인 프로모션   \n",
       "13694  조선일보                     무게 160g… 일본 맘카페도 ‘국민 아기띠’라 불러요   \n",
       "13695  조선일보                     롯데건설, 인천 검암에 1조4900억 들여 복합환승센터   \n",
       "\n",
       "                                                 content  \\\n",
       "0      통통한 몸집과 어울리지 않게 대나무를 주식으로 하는 판다. 이런 판다의 독특한 식성...   \n",
       "1      “가세연의 이준석 녹취는 일부 삭제된 것” 경기중앙지방변호사회가 한 보수단체가 제기...   \n",
       "2      비대위원장직 자진사퇴 후 한 달 만에 공개행사 참석 이재명 전당대회 출마와 민형배 ...   \n",
       "3      강병원 “진영 논리서 벗어나야” 박용진 “상식 복원하는 게 혁신” 꼼수 탈당한 민형...   \n",
       "4      시누이 부부가 먹을 음식에 유독성 물질을 넣은 30대 여성이 특수상해 혐의로 경찰에...   \n",
       "...                                                  ...   \n",
       "13691  러시아에서 값비싼 슈퍼카를 몰던 차주들이 무더기로 경찰에 체포되는 일이 발생했다. ...   \n",
       "13692  세계에서 가장 어린 트랜스젠더 모델인 미국 소녀 노엘라 맥마허(10)가 패션계의 주...   \n",
       "13693  곤충만 먹는줄 알았더니 개구리·도마뱀·새까지 먹어치워 짝짓기 중 동족포식하는 ‘이 ...   \n",
       "13694  한국 천주교계에 ‘서울·로마 두 추기경 시대’의 막이 올랐습니다. 지난 27일(현지...   \n",
       "13695  베토벤이 청력을 잃어 불우했다고 하지만, 사실 인복은 많았다. 그는 커피를 끓이기 ...   \n",
       "\n",
       "                                                     url  \n",
       "0      https://n.news.naver.com/mnews/article/023/000...  \n",
       "1      https://n.news.naver.com/mnews/article/023/000...  \n",
       "2      https://n.news.naver.com/mnews/article/023/000...  \n",
       "3      https://n.news.naver.com/mnews/article/023/000...  \n",
       "4      https://n.news.naver.com/mnews/article/023/000...  \n",
       "...                                                  ...  \n",
       "13691  https://n.news.naver.com/mnews/article/023/000...  \n",
       "13692  https://n.news.naver.com/mnews/article/023/000...  \n",
       "13693  https://n.news.naver.com/mnews/article/023/000...  \n",
       "13694  https://n.news.naver.com/mnews/article/023/000...  \n",
       "13695  https://n.news.naver.com/mnews/article/023/000...  \n",
       "\n",
       "[13696 rows x 4 columns]"
      ]
     },
     "execution_count": 11,
     "metadata": {},
     "output_type": "execute_result"
    }
   ],
   "source": [
    "chosun_eilbo_database"
   ]
  },
  {
   "cell_type": "code",
   "execution_count": 12,
   "metadata": {},
   "outputs": [
    {
     "data": {
      "text/plain": [
       "'왼팔꿈치 아래 없는 女 축구선수,  최강 미국팀 주전 데뷔전'"
      ]
     },
     "execution_count": 12,
     "metadata": {},
     "output_type": "execute_result"
    }
   ],
   "source": [
    "chosun_eilbo_database['title'][0]"
   ]
  },
  {
   "cell_type": "code",
   "execution_count": 22,
   "metadata": {},
   "outputs": [
    {
     "name": "stdout",
     "output_type": "stream",
     "text": [
      "['짧', '최근', '물론', '쉽', '오', '부터', '나오', '존재', '셈', 'Ailurarctos', '데', '적응', '형', '시각', '면', '이번', '아이', '갈고리', ')', '슈이탕바', '로스앤젤레스', '이', '현지', '들', '그', '말', '고', '“', '엄지', '있', 'ᆫ다는', '하', '왕', '지', '약', '어울리', '줄기', '가짜', '이라고', '동물', '윈난성', '비교적', '전', '올라가', '다음', '/', '용도', '바로', '발굴', '팀', '남부', '살', '었', '여섯', '명', '길이', '걸어가', '도', '어야', '게', '몸집', '에', '다고', '어', '것', '등', '때', '역할', '일루', '최소', '자연사', '장애', '으로', '15', '년', '던', '만', '손목', '.', '현대', 'ᆫ다', '과', '부위', '전문가', '’', '먹이', '결과', '손가락', '은', ',', '연구', '되', '째', '600', '조상', '지탱', '에서', '이루', '여기', 'CNN', '무려', '수', '아', '놀랍', '외신', '주식', '쓰이', '붙잡', '분석', '위하', '밝히', '는데', '일', '중추', '다는', 'ᆯ루', '샤오밍', '모양', '단단히', '바뀌', 'ᆯ', '발견', '증명', '몸무게', '육식성', '지역', '설명', '많', '뜯', '독특', '가', '더', '좋', '을', '성', '가지', '이런', '판', '양', '기', '는', '보다', '팔', '”', '종', '내', '식성', '판다', '가장', '라며', '가능', '초식', '그동안', '돌출', '자이언트', '잡', '자오퉁시', '박물관', '않', '찾', '픽사베이', '대나무', '다그', '통통', '넘', '(', '적', '라고', '진화', '이어지', '직선', '거스르', '중국', '따르', '미국', '눈여겨보', '번', '보', '‘', '의', '화석', '고대', '를', '락토스', '로', '도록', '같', '중요', '뼈', '길', '중', '쪼개', '다', 'ᆫ', '박사', '1', '뉴시스', '과정', '먹']\n"
     ]
    }
   ],
   "source": [
    "kiwi = Kiwi()\n",
    "html_0 = urllib.request.urlopen(chosun_eilbo_database['url'][0])\n",
    "soup_0 = BeautifulSoup(html_0, 'html.parser')\n",
    "content_0 = soup_0.find('div', {\"id\" : \"dic_area\"}).text\n",
    "test_content_0 = kiwi.analyze(content_0)\n",
    "word_list = [word.form for word in test_content_0[0][0]]\n",
    "print(list(set(word_list)))"
   ]
  },
  {
   "cell_type": "code",
   "execution_count": null,
   "metadata": {},
   "outputs": [],
   "source": []
  }
 ],
 "metadata": {
  "kernelspec": {
   "display_name": "Python 3.8.5 64-bit",
   "language": "python",
   "name": "python3"
  },
  "language_info": {
   "codemirror_mode": {
    "name": "ipython",
    "version": 3
   },
   "file_extension": ".py",
   "mimetype": "text/x-python",
   "name": "python",
   "nbconvert_exporter": "python",
   "pygments_lexer": "ipython3",
   "version": "3.8.5"
  },
  "orig_nbformat": 4,
  "vscode": {
   "interpreter": {
    "hash": "9650cb4e16cdd4a8e8e2d128bf38d875813998db22a3c986335f89e0cb4d7bb2"
   }
  }
 },
 "nbformat": 4,
 "nbformat_minor": 2
}
