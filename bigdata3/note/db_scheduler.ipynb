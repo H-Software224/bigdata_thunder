{
 "cells": [
  {
   "cell_type": "code",
   "execution_count": 2,
   "metadata": {},
   "outputs": [],
   "source": [
    "import pandas as pd"
   ]
  },
  {
   "cell_type": "code",
   "execution_count": 3,
   "metadata": {},
   "outputs": [],
   "source": [
    "chosun_eilbo_database = pd.read_csv(r'C:\\bigdata_git\\bigdata_thunder\\bigdata1\\chosun_eilbo.csv', encoding='utf-8', index_col=False)\n",
    "korean_economy_database = pd.read_csv(r'C:\\bigdata_git\\bigdata_thunder\\bigdata1\\korean_economy.csv', encoding='utf-8', index_col=False)\n",
    "mail_economy_database = pd.read_csv(r'C:\\bigdata_git\\bigdata_thunder\\bigdata1\\mail_economy.csv', encoding='utf-8', index_col=False)\n",
    "midlle_eilbo_database = pd.read_csv(r'C:\\bigdata_git\\bigdata_thunder\\bigdata1\\middle_eilbo.csv', encoding='utf-8', index_col=False)\n",
    "money_today_database = pd.read_csv(r'C:\\bigdata_git\\bigdata_thunder\\bigdata1\\money_today.csv', encoding='utf-8', index_col=False)"
   ]
  },
  {
   "cell_type": "code",
   "execution_count": 7,
   "metadata": {},
   "outputs": [],
   "source": [
    "import psycopg2"
   ]
  },
  {
   "cell_type": "code",
   "execution_count": 13,
   "metadata": {},
   "outputs": [],
   "source": [
    "USERNAME = 'postgres'\n",
    "PASSWORD = 'postgrespw'\n",
    "DB_HOST = 'localhost'\n",
    "PORT = 49154\n",
    "DB_NAME = 'newspapertest'"
   ]
  },
  {
   "cell_type": "code",
   "execution_count": 14,
   "metadata": {},
   "outputs": [],
   "source": [
    "conn = psycopg2.connect(\n",
    "  host=DB_HOST,\n",
    "  dbname=DB_NAME,\n",
    "  user=USERNAME,\n",
    "  password=PASSWORD,\n",
    "  port=PORT\n",
    ")\n",
    "\n",
    "cur = conn.cursor()"
   ]
  },
  {
   "cell_type": "code",
   "execution_count": 19,
   "metadata": {},
   "outputs": [
    {
     "ename": "NoSuchModuleError",
     "evalue": "Can't load plugin: sqlalchemy.dialects:postgres.psycopg2",
     "output_type": "error",
     "traceback": [
      "\u001b[1;31m---------------------------------------------------------------------------\u001b[0m",
      "\u001b[1;31mNoSuchModuleError\u001b[0m                         Traceback (most recent call last)",
      "\u001b[1;32mc:\\bigdata_git\\bigdata_thunder\\bigdata3\\note\\db_scheduler.ipynb 셀 6\u001b[0m in \u001b[0;36m<cell line: 5>\u001b[1;34m()\u001b[0m\n\u001b[0;32m      <a href='vscode-notebook-cell:/c%3A/bigdata_git/bigdata_thunder/bigdata3/note/db_scheduler.ipynb#W5sZmlsZQ%3D%3D?line=1'>2</a>\u001b[0m \u001b[39mfrom\u001b[39;00m \u001b[39msqlalchemy\u001b[39;00m\u001b[39m.\u001b[39;00m\u001b[39mtypes\u001b[39;00m \u001b[39mimport\u001b[39;00m Integer, Text, String, DateTime\n\u001b[0;32m      <a href='vscode-notebook-cell:/c%3A/bigdata_git/bigdata_thunder/bigdata3/note/db_scheduler.ipynb#W5sZmlsZQ%3D%3D?line=3'>4</a>\u001b[0m db_url \u001b[39m=\u001b[39m \u001b[39mf\u001b[39m\u001b[39m'\u001b[39m\u001b[39mpostgres+psycopg2://\u001b[39m\u001b[39m{\u001b[39;00mUSERNAME\u001b[39m}\u001b[39;00m\u001b[39m:\u001b[39m\u001b[39m{\u001b[39;00mPASSWORD\u001b[39m}\u001b[39;00m\u001b[39m@\u001b[39m\u001b[39m{\u001b[39;00mDB_HOST\u001b[39m}\u001b[39;00m\u001b[39m:\u001b[39m\u001b[39m{\u001b[39;00mPORT\u001b[39m}\u001b[39;00m\u001b[39m/\u001b[39m\u001b[39m{\u001b[39;00mDB_NAME\u001b[39m}\u001b[39;00m\u001b[39m'\u001b[39m\n\u001b[1;32m----> <a href='vscode-notebook-cell:/c%3A/bigdata_git/bigdata_thunder/bigdata3/note/db_scheduler.ipynb#W5sZmlsZQ%3D%3D?line=4'>5</a>\u001b[0m engine \u001b[39m=\u001b[39m create_engine(db_url, echo\u001b[39m=\u001b[39;49m\u001b[39mTrue\u001b[39;49;00m)\n\u001b[0;32m      <a href='vscode-notebook-cell:/c%3A/bigdata_git/bigdata_thunder/bigdata3/note/db_scheduler.ipynb#W5sZmlsZQ%3D%3D?line=6'>7</a>\u001b[0m cur\u001b[39m.\u001b[39mto_sql(\n\u001b[0;32m      <a href='vscode-notebook-cell:/c%3A/bigdata_git/bigdata_thunder/bigdata3/note/db_scheduler.ipynb#W5sZmlsZQ%3D%3D?line=7'>8</a>\u001b[0m   \u001b[39m'\u001b[39m\u001b[39mchosuneilbo\u001b[39m\u001b[39m'\u001b[39m,\n\u001b[0;32m      <a href='vscode-notebook-cell:/c%3A/bigdata_git/bigdata_thunder/bigdata3/note/db_scheduler.ipynb#W5sZmlsZQ%3D%3D?line=8'>9</a>\u001b[0m   engine,\n\u001b[1;32m   (...)\u001b[0m\n\u001b[0;32m     <a href='vscode-notebook-cell:/c%3A/bigdata_git/bigdata_thunder/bigdata3/note/db_scheduler.ipynb#W5sZmlsZQ%3D%3D?line=15'>16</a>\u001b[0m   }\n\u001b[0;32m     <a href='vscode-notebook-cell:/c%3A/bigdata_git/bigdata_thunder/bigdata3/note/db_scheduler.ipynb#W5sZmlsZQ%3D%3D?line=16'>17</a>\u001b[0m )\n",
      "File \u001b[1;32m<string>:2\u001b[0m, in \u001b[0;36mcreate_engine\u001b[1;34m(url, **kwargs)\u001b[0m\n",
      "File \u001b[1;32mc:\\Python38\\lib\\site-packages\\sqlalchemy\\util\\deprecations.py:309\u001b[0m, in \u001b[0;36mdeprecated_params.<locals>.decorate.<locals>.warned\u001b[1;34m(fn, *args, **kwargs)\u001b[0m\n\u001b[0;32m    302\u001b[0m     \u001b[39mif\u001b[39;00m m \u001b[39min\u001b[39;00m kwargs:\n\u001b[0;32m    303\u001b[0m         _warn_with_version(\n\u001b[0;32m    304\u001b[0m             messages[m],\n\u001b[0;32m    305\u001b[0m             versions[m],\n\u001b[0;32m    306\u001b[0m             version_warnings[m],\n\u001b[0;32m    307\u001b[0m             stacklevel\u001b[39m=\u001b[39m\u001b[39m3\u001b[39m,\n\u001b[0;32m    308\u001b[0m         )\n\u001b[1;32m--> 309\u001b[0m \u001b[39mreturn\u001b[39;00m fn(\u001b[39m*\u001b[39;49margs, \u001b[39m*\u001b[39;49m\u001b[39m*\u001b[39;49mkwargs)\n",
      "File \u001b[1;32mc:\\Python38\\lib\\site-packages\\sqlalchemy\\engine\\create.py:522\u001b[0m, in \u001b[0;36mcreate_engine\u001b[1;34m(url, **kwargs)\u001b[0m\n\u001b[0;32m    518\u001b[0m u \u001b[39m=\u001b[39m _url\u001b[39m.\u001b[39mmake_url(url)\n\u001b[0;32m    520\u001b[0m u, plugins, kwargs \u001b[39m=\u001b[39m u\u001b[39m.\u001b[39m_instantiate_plugins(kwargs)\n\u001b[1;32m--> 522\u001b[0m entrypoint \u001b[39m=\u001b[39m u\u001b[39m.\u001b[39;49m_get_entrypoint()\n\u001b[0;32m    523\u001b[0m dialect_cls \u001b[39m=\u001b[39m entrypoint\u001b[39m.\u001b[39mget_dialect_cls(u)\n\u001b[0;32m    525\u001b[0m \u001b[39mif\u001b[39;00m kwargs\u001b[39m.\u001b[39mpop(\u001b[39m\"\u001b[39m\u001b[39m_coerce_config\u001b[39m\u001b[39m\"\u001b[39m, \u001b[39mFalse\u001b[39;00m):\n",
      "File \u001b[1;32mc:\\Python38\\lib\\site-packages\\sqlalchemy\\engine\\url.py:655\u001b[0m, in \u001b[0;36mURL._get_entrypoint\u001b[1;34m(self)\u001b[0m\n\u001b[0;32m    653\u001b[0m \u001b[39melse\u001b[39;00m:\n\u001b[0;32m    654\u001b[0m     name \u001b[39m=\u001b[39m \u001b[39mself\u001b[39m\u001b[39m.\u001b[39mdrivername\u001b[39m.\u001b[39mreplace(\u001b[39m\"\u001b[39m\u001b[39m+\u001b[39m\u001b[39m\"\u001b[39m, \u001b[39m\"\u001b[39m\u001b[39m.\u001b[39m\u001b[39m\"\u001b[39m)\n\u001b[1;32m--> 655\u001b[0m \u001b[39mcls\u001b[39m \u001b[39m=\u001b[39m registry\u001b[39m.\u001b[39;49mload(name)\n\u001b[0;32m    656\u001b[0m \u001b[39m# check for legacy dialects that\u001b[39;00m\n\u001b[0;32m    657\u001b[0m \u001b[39m# would return a module with 'dialect' as the\u001b[39;00m\n\u001b[0;32m    658\u001b[0m \u001b[39m# actual class\u001b[39;00m\n\u001b[0;32m    659\u001b[0m \u001b[39mif\u001b[39;00m (\n\u001b[0;32m    660\u001b[0m     \u001b[39mhasattr\u001b[39m(\u001b[39mcls\u001b[39m, \u001b[39m\"\u001b[39m\u001b[39mdialect\u001b[39m\u001b[39m\"\u001b[39m)\n\u001b[0;32m    661\u001b[0m     \u001b[39mand\u001b[39;00m \u001b[39misinstance\u001b[39m(\u001b[39mcls\u001b[39m\u001b[39m.\u001b[39mdialect, \u001b[39mtype\u001b[39m)\n\u001b[0;32m    662\u001b[0m     \u001b[39mand\u001b[39;00m \u001b[39missubclass\u001b[39m(\u001b[39mcls\u001b[39m\u001b[39m.\u001b[39mdialect, Dialect)\n\u001b[0;32m    663\u001b[0m ):\n",
      "File \u001b[1;32mc:\\Python38\\lib\\site-packages\\sqlalchemy\\util\\langhelpers.py:343\u001b[0m, in \u001b[0;36mPluginLoader.load\u001b[1;34m(self, name)\u001b[0m\n\u001b[0;32m    340\u001b[0m         \u001b[39mself\u001b[39m\u001b[39m.\u001b[39mimpls[name] \u001b[39m=\u001b[39m impl\u001b[39m.\u001b[39mload\n\u001b[0;32m    341\u001b[0m         \u001b[39mreturn\u001b[39;00m impl\u001b[39m.\u001b[39mload()\n\u001b[1;32m--> 343\u001b[0m \u001b[39mraise\u001b[39;00m exc\u001b[39m.\u001b[39mNoSuchModuleError(\n\u001b[0;32m    344\u001b[0m     \u001b[39m\"\u001b[39m\u001b[39mCan\u001b[39m\u001b[39m'\u001b[39m\u001b[39mt load plugin: \u001b[39m\u001b[39m%s\u001b[39;00m\u001b[39m:\u001b[39m\u001b[39m%s\u001b[39;00m\u001b[39m\"\u001b[39m \u001b[39m%\u001b[39m (\u001b[39mself\u001b[39m\u001b[39m.\u001b[39mgroup, name)\n\u001b[0;32m    345\u001b[0m )\n",
      "\u001b[1;31mNoSuchModuleError\u001b[0m: Can't load plugin: sqlalchemy.dialects:postgres.psycopg2"
     ]
    }
   ],
   "source": [
    "from sqlalchemy import create_engine\n",
    "from sqlalchemy.types import Integer, Text, String, DateTime\n",
    "\n",
    "db_url = f'postgres+psycopg2://{USERNAME}:{PASSWORD}@{DB_HOST}:{PORT}/{DB_NAME}'\n",
    "engine = create_engine(db_url, echo=True)\n",
    "\n",
    "cur.to_sql(\n",
    "  'chosuneilbo',\n",
    "  engine,\n",
    "  if_exists='append', # replace: 덮어쓰기\n",
    "  index=False,\n",
    "  chunksize=5000,\n",
    "  dtypes={\n",
    "    'id': Integer,\n",
    "    'press_name': Text\n",
    "  }\n",
    ")"
   ]
  },
  {
   "cell_type": "code",
   "execution_count": null,
   "metadata": {},
   "outputs": [],
   "source": []
  }
 ],
 "metadata": {
  "kernelspec": {
   "display_name": "Python 3.8.5 64-bit",
   "language": "python",
   "name": "python3"
  },
  "language_info": {
   "codemirror_mode": {
    "name": "ipython",
    "version": 3
   },
   "file_extension": ".py",
   "mimetype": "text/x-python",
   "name": "python",
   "nbconvert_exporter": "python",
   "pygments_lexer": "ipython3",
   "version": "3.8.5"
  },
  "orig_nbformat": 4,
  "vscode": {
   "interpreter": {
    "hash": "9650cb4e16cdd4a8e8e2d128bf38d875813998db22a3c986335f89e0cb4d7bb2"
   }
  }
 },
 "nbformat": 4,
 "nbformat_minor": 2
}
